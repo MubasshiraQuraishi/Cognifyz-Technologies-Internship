{
  "cells": [
    {
      "cell_type": "code",
      "execution_count": 1,
      "id": "48833d75",
      "metadata": {
        "id": "48833d75"
      },
      "outputs": [],
      "source": [
        "import pandas as pd\n",
        "import numpy as np\n",
        "import matplotlib.pyplot as plt\n",
        "import seaborn as sns"
      ]
    },
    {
      "cell_type": "markdown",
      "id": "4d9a8b5f",
      "metadata": {
        "id": "4d9a8b5f"
      },
      "source": [
        "# L1 - T1 : Top Cuisines"
      ]
    },
    {
      "cell_type": "markdown",
      "id": "bd72f06d",
      "metadata": {
        "id": "bd72f06d"
      },
      "source": [
        "**Determine thea top three most common cuisines in the dataset**"
      ]
    },
    {
      "cell_type": "code",
      "source": [
        "rest_df.head(10)"
      ],
      "metadata": {
        "colab": {
          "base_uri": "https://localhost:8080/",
          "height": 1000
        },
        "id": "7Pioa4pCBj_L",
        "outputId": "8f296217-313c-43b2-e7cd-4f2b68a9fa8c"
      },
      "id": "7Pioa4pCBj_L",
      "execution_count": 9,
      "outputs": [
        {
          "output_type": "execute_result",
          "data": {
            "text/plain": [
              "   Restaurant ID                           Restaurant Name  Country Code  \\\n",
              "0        6317637                          Le Petit Souffle           162   \n",
              "1        6304287                          Izakaya Kikufuji           162   \n",
              "2        6300002                    Heat - Edsa Shangri-La           162   \n",
              "3        6318506                                      Ooma           162   \n",
              "4        6314302                               Sambo Kojin           162   \n",
              "5       18189371                              Din Tai Fung           162   \n",
              "6        6300781                                Buffet 101           162   \n",
              "7        6301290                                   Vikings           162   \n",
              "8        6300010  Spiral - Sofitel Philippine Plaza Manila           162   \n",
              "9        6314987                                  Locavore           162   \n",
              "\n",
              "               City                                            Address  \\\n",
              "0       Makati City  Third Floor, Century City Mall, Kalayaan Avenu...   \n",
              "1       Makati City  Little Tokyo, 2277 Chino Roces Avenue, Legaspi...   \n",
              "2  Mandaluyong City  Edsa Shangri-La, 1 Garden Way, Ortigas, Mandal...   \n",
              "3  Mandaluyong City  Third Floor, Mega Fashion Hall, SM Megamall, O...   \n",
              "4  Mandaluyong City  Third Floor, Mega Atrium, SM Megamall, Ortigas...   \n",
              "5  Mandaluyong City  Ground Floor, Mega Fashion Hall, SM Megamall, ...   \n",
              "6        Pasay City  Building K, SM By The Bay, Sunset Boulevard, M...   \n",
              "7        Pasay City  Building B, By The Bay, Seaside Boulevard, Mal...   \n",
              "8        Pasay City  Plaza Level, Sofitel Philippine Plaza Manila, ...   \n",
              "9        Pasig City  Brixton Technology Center, 10 Brixton Street, ...   \n",
              "\n",
              "                                          Locality  \\\n",
              "0        Century City Mall, Poblacion, Makati City   \n",
              "1       Little Tokyo, Legaspi Village, Makati City   \n",
              "2       Edsa Shangri-La, Ortigas, Mandaluyong City   \n",
              "3           SM Megamall, Ortigas, Mandaluyong City   \n",
              "4           SM Megamall, Ortigas, Mandaluyong City   \n",
              "5           SM Megamall, Ortigas, Mandaluyong City   \n",
              "6  SM by the Bay, Mall of Asia Complex, Pasay City   \n",
              "7  SM by the Bay, Mall of Asia Complex, Pasay City   \n",
              "8      Sofitel Philippine Plaza Manila, Pasay City   \n",
              "9                                        Kapitolyo   \n",
              "\n",
              "                                    Locality Verbose   Longitude   Latitude  \\\n",
              "0  Century City Mall, Poblacion, Makati City, Mak...  121.027535  14.565443   \n",
              "1  Little Tokyo, Legaspi Village, Makati City, Ma...  121.014101  14.553708   \n",
              "2  Edsa Shangri-La, Ortigas, Mandaluyong City, Ma...  121.056831  14.581404   \n",
              "3  SM Megamall, Ortigas, Mandaluyong City, Mandal...  121.056475  14.585318   \n",
              "4  SM Megamall, Ortigas, Mandaluyong City, Mandal...  121.057508  14.584450   \n",
              "5  SM Megamall, Ortigas, Mandaluyong City, Mandal...  121.056314  14.583764   \n",
              "6  SM by the Bay, Mall of Asia Complex, Pasay Cit...  120.979667  14.531333   \n",
              "7  SM by the Bay, Mall of Asia Complex, Pasay Cit...  120.979333  14.540000   \n",
              "8  Sofitel Philippine Plaza Manila, Pasay City, P...  120.980090  14.552990   \n",
              "9                              Kapitolyo, Pasig City  121.056532  14.572041   \n",
              "\n",
              "                             Cuisines  Average Cost for two          Currency  \\\n",
              "0          French, Japanese, Desserts                  1100  Botswana Pula(P)   \n",
              "1                            Japanese                  1200  Botswana Pula(P)   \n",
              "2    Seafood, Asian, Filipino, Indian                  4000  Botswana Pula(P)   \n",
              "3                     Japanese, Sushi                  1500  Botswana Pula(P)   \n",
              "4                    Japanese, Korean                  1500  Botswana Pula(P)   \n",
              "5                             Chinese                  1000  Botswana Pula(P)   \n",
              "6                     Asian, European                  2000  Botswana Pula(P)   \n",
              "7  Seafood, Filipino, Asian, European                  2000  Botswana Pula(P)   \n",
              "8             European, Asian, Indian                  6000  Botswana Pula(P)   \n",
              "9                            Filipino                  1100  Botswana Pula(P)   \n",
              "\n",
              "  Has Table booking Has Online delivery Is delivering now  \\\n",
              "0               Yes                  No                No   \n",
              "1               Yes                  No                No   \n",
              "2               Yes                  No                No   \n",
              "3                No                  No                No   \n",
              "4               Yes                  No                No   \n",
              "5                No                  No                No   \n",
              "6               Yes                  No                No   \n",
              "7               Yes                  No                No   \n",
              "8               Yes                  No                No   \n",
              "9               Yes                  No                No   \n",
              "\n",
              "  Switch to order menu  Price range  Aggregate rating Rating color  \\\n",
              "0                   No            3               4.8   Dark Green   \n",
              "1                   No            3               4.5   Dark Green   \n",
              "2                   No            4               4.4        Green   \n",
              "3                   No            4               4.9   Dark Green   \n",
              "4                   No            4               4.8   Dark Green   \n",
              "5                   No            3               4.4        Green   \n",
              "6                   No            4               4.0        Green   \n",
              "7                   No            4               4.2        Green   \n",
              "8                   No            4               4.9   Dark Green   \n",
              "9                   No            3               4.8   Dark Green   \n",
              "\n",
              "  Rating text  Votes  \n",
              "0   Excellent    314  \n",
              "1   Excellent    591  \n",
              "2   Very Good    270  \n",
              "3   Excellent    365  \n",
              "4   Excellent    229  \n",
              "5   Very Good    336  \n",
              "6   Very Good    520  \n",
              "7   Very Good    677  \n",
              "8   Excellent    621  \n",
              "9   Excellent    532  "
            ],
            "text/html": [
              "\n",
              "  <div id=\"df-5e5f5d5e-4b55-45c2-aa6d-035939fe99f3\" class=\"colab-df-container\">\n",
              "    <div>\n",
              "<style scoped>\n",
              "    .dataframe tbody tr th:only-of-type {\n",
              "        vertical-align: middle;\n",
              "    }\n",
              "\n",
              "    .dataframe tbody tr th {\n",
              "        vertical-align: top;\n",
              "    }\n",
              "\n",
              "    .dataframe thead th {\n",
              "        text-align: right;\n",
              "    }\n",
              "</style>\n",
              "<table border=\"1\" class=\"dataframe\">\n",
              "  <thead>\n",
              "    <tr style=\"text-align: right;\">\n",
              "      <th></th>\n",
              "      <th>Restaurant ID</th>\n",
              "      <th>Restaurant Name</th>\n",
              "      <th>Country Code</th>\n",
              "      <th>City</th>\n",
              "      <th>Address</th>\n",
              "      <th>Locality</th>\n",
              "      <th>Locality Verbose</th>\n",
              "      <th>Longitude</th>\n",
              "      <th>Latitude</th>\n",
              "      <th>Cuisines</th>\n",
              "      <th>Average Cost for two</th>\n",
              "      <th>Currency</th>\n",
              "      <th>Has Table booking</th>\n",
              "      <th>Has Online delivery</th>\n",
              "      <th>Is delivering now</th>\n",
              "      <th>Switch to order menu</th>\n",
              "      <th>Price range</th>\n",
              "      <th>Aggregate rating</th>\n",
              "      <th>Rating color</th>\n",
              "      <th>Rating text</th>\n",
              "      <th>Votes</th>\n",
              "    </tr>\n",
              "  </thead>\n",
              "  <tbody>\n",
              "    <tr>\n",
              "      <th>0</th>\n",
              "      <td>6317637</td>\n",
              "      <td>Le Petit Souffle</td>\n",
              "      <td>162</td>\n",
              "      <td>Makati City</td>\n",
              "      <td>Third Floor, Century City Mall, Kalayaan Avenu...</td>\n",
              "      <td>Century City Mall, Poblacion, Makati City</td>\n",
              "      <td>Century City Mall, Poblacion, Makati City, Mak...</td>\n",
              "      <td>121.027535</td>\n",
              "      <td>14.565443</td>\n",
              "      <td>French, Japanese, Desserts</td>\n",
              "      <td>1100</td>\n",
              "      <td>Botswana Pula(P)</td>\n",
              "      <td>Yes</td>\n",
              "      <td>No</td>\n",
              "      <td>No</td>\n",
              "      <td>No</td>\n",
              "      <td>3</td>\n",
              "      <td>4.8</td>\n",
              "      <td>Dark Green</td>\n",
              "      <td>Excellent</td>\n",
              "      <td>314</td>\n",
              "    </tr>\n",
              "    <tr>\n",
              "      <th>1</th>\n",
              "      <td>6304287</td>\n",
              "      <td>Izakaya Kikufuji</td>\n",
              "      <td>162</td>\n",
              "      <td>Makati City</td>\n",
              "      <td>Little Tokyo, 2277 Chino Roces Avenue, Legaspi...</td>\n",
              "      <td>Little Tokyo, Legaspi Village, Makati City</td>\n",
              "      <td>Little Tokyo, Legaspi Village, Makati City, Ma...</td>\n",
              "      <td>121.014101</td>\n",
              "      <td>14.553708</td>\n",
              "      <td>Japanese</td>\n",
              "      <td>1200</td>\n",
              "      <td>Botswana Pula(P)</td>\n",
              "      <td>Yes</td>\n",
              "      <td>No</td>\n",
              "      <td>No</td>\n",
              "      <td>No</td>\n",
              "      <td>3</td>\n",
              "      <td>4.5</td>\n",
              "      <td>Dark Green</td>\n",
              "      <td>Excellent</td>\n",
              "      <td>591</td>\n",
              "    </tr>\n",
              "    <tr>\n",
              "      <th>2</th>\n",
              "      <td>6300002</td>\n",
              "      <td>Heat - Edsa Shangri-La</td>\n",
              "      <td>162</td>\n",
              "      <td>Mandaluyong City</td>\n",
              "      <td>Edsa Shangri-La, 1 Garden Way, Ortigas, Mandal...</td>\n",
              "      <td>Edsa Shangri-La, Ortigas, Mandaluyong City</td>\n",
              "      <td>Edsa Shangri-La, Ortigas, Mandaluyong City, Ma...</td>\n",
              "      <td>121.056831</td>\n",
              "      <td>14.581404</td>\n",
              "      <td>Seafood, Asian, Filipino, Indian</td>\n",
              "      <td>4000</td>\n",
              "      <td>Botswana Pula(P)</td>\n",
              "      <td>Yes</td>\n",
              "      <td>No</td>\n",
              "      <td>No</td>\n",
              "      <td>No</td>\n",
              "      <td>4</td>\n",
              "      <td>4.4</td>\n",
              "      <td>Green</td>\n",
              "      <td>Very Good</td>\n",
              "      <td>270</td>\n",
              "    </tr>\n",
              "    <tr>\n",
              "      <th>3</th>\n",
              "      <td>6318506</td>\n",
              "      <td>Ooma</td>\n",
              "      <td>162</td>\n",
              "      <td>Mandaluyong City</td>\n",
              "      <td>Third Floor, Mega Fashion Hall, SM Megamall, O...</td>\n",
              "      <td>SM Megamall, Ortigas, Mandaluyong City</td>\n",
              "      <td>SM Megamall, Ortigas, Mandaluyong City, Mandal...</td>\n",
              "      <td>121.056475</td>\n",
              "      <td>14.585318</td>\n",
              "      <td>Japanese, Sushi</td>\n",
              "      <td>1500</td>\n",
              "      <td>Botswana Pula(P)</td>\n",
              "      <td>No</td>\n",
              "      <td>No</td>\n",
              "      <td>No</td>\n",
              "      <td>No</td>\n",
              "      <td>4</td>\n",
              "      <td>4.9</td>\n",
              "      <td>Dark Green</td>\n",
              "      <td>Excellent</td>\n",
              "      <td>365</td>\n",
              "    </tr>\n",
              "    <tr>\n",
              "      <th>4</th>\n",
              "      <td>6314302</td>\n",
              "      <td>Sambo Kojin</td>\n",
              "      <td>162</td>\n",
              "      <td>Mandaluyong City</td>\n",
              "      <td>Third Floor, Mega Atrium, SM Megamall, Ortigas...</td>\n",
              "      <td>SM Megamall, Ortigas, Mandaluyong City</td>\n",
              "      <td>SM Megamall, Ortigas, Mandaluyong City, Mandal...</td>\n",
              "      <td>121.057508</td>\n",
              "      <td>14.584450</td>\n",
              "      <td>Japanese, Korean</td>\n",
              "      <td>1500</td>\n",
              "      <td>Botswana Pula(P)</td>\n",
              "      <td>Yes</td>\n",
              "      <td>No</td>\n",
              "      <td>No</td>\n",
              "      <td>No</td>\n",
              "      <td>4</td>\n",
              "      <td>4.8</td>\n",
              "      <td>Dark Green</td>\n",
              "      <td>Excellent</td>\n",
              "      <td>229</td>\n",
              "    </tr>\n",
              "    <tr>\n",
              "      <th>5</th>\n",
              "      <td>18189371</td>\n",
              "      <td>Din Tai Fung</td>\n",
              "      <td>162</td>\n",
              "      <td>Mandaluyong City</td>\n",
              "      <td>Ground Floor, Mega Fashion Hall, SM Megamall, ...</td>\n",
              "      <td>SM Megamall, Ortigas, Mandaluyong City</td>\n",
              "      <td>SM Megamall, Ortigas, Mandaluyong City, Mandal...</td>\n",
              "      <td>121.056314</td>\n",
              "      <td>14.583764</td>\n",
              "      <td>Chinese</td>\n",
              "      <td>1000</td>\n",
              "      <td>Botswana Pula(P)</td>\n",
              "      <td>No</td>\n",
              "      <td>No</td>\n",
              "      <td>No</td>\n",
              "      <td>No</td>\n",
              "      <td>3</td>\n",
              "      <td>4.4</td>\n",
              "      <td>Green</td>\n",
              "      <td>Very Good</td>\n",
              "      <td>336</td>\n",
              "    </tr>\n",
              "    <tr>\n",
              "      <th>6</th>\n",
              "      <td>6300781</td>\n",
              "      <td>Buffet 101</td>\n",
              "      <td>162</td>\n",
              "      <td>Pasay City</td>\n",
              "      <td>Building K, SM By The Bay, Sunset Boulevard, M...</td>\n",
              "      <td>SM by the Bay, Mall of Asia Complex, Pasay City</td>\n",
              "      <td>SM by the Bay, Mall of Asia Complex, Pasay Cit...</td>\n",
              "      <td>120.979667</td>\n",
              "      <td>14.531333</td>\n",
              "      <td>Asian, European</td>\n",
              "      <td>2000</td>\n",
              "      <td>Botswana Pula(P)</td>\n",
              "      <td>Yes</td>\n",
              "      <td>No</td>\n",
              "      <td>No</td>\n",
              "      <td>No</td>\n",
              "      <td>4</td>\n",
              "      <td>4.0</td>\n",
              "      <td>Green</td>\n",
              "      <td>Very Good</td>\n",
              "      <td>520</td>\n",
              "    </tr>\n",
              "    <tr>\n",
              "      <th>7</th>\n",
              "      <td>6301290</td>\n",
              "      <td>Vikings</td>\n",
              "      <td>162</td>\n",
              "      <td>Pasay City</td>\n",
              "      <td>Building B, By The Bay, Seaside Boulevard, Mal...</td>\n",
              "      <td>SM by the Bay, Mall of Asia Complex, Pasay City</td>\n",
              "      <td>SM by the Bay, Mall of Asia Complex, Pasay Cit...</td>\n",
              "      <td>120.979333</td>\n",
              "      <td>14.540000</td>\n",
              "      <td>Seafood, Filipino, Asian, European</td>\n",
              "      <td>2000</td>\n",
              "      <td>Botswana Pula(P)</td>\n",
              "      <td>Yes</td>\n",
              "      <td>No</td>\n",
              "      <td>No</td>\n",
              "      <td>No</td>\n",
              "      <td>4</td>\n",
              "      <td>4.2</td>\n",
              "      <td>Green</td>\n",
              "      <td>Very Good</td>\n",
              "      <td>677</td>\n",
              "    </tr>\n",
              "    <tr>\n",
              "      <th>8</th>\n",
              "      <td>6300010</td>\n",
              "      <td>Spiral - Sofitel Philippine Plaza Manila</td>\n",
              "      <td>162</td>\n",
              "      <td>Pasay City</td>\n",
              "      <td>Plaza Level, Sofitel Philippine Plaza Manila, ...</td>\n",
              "      <td>Sofitel Philippine Plaza Manila, Pasay City</td>\n",
              "      <td>Sofitel Philippine Plaza Manila, Pasay City, P...</td>\n",
              "      <td>120.980090</td>\n",
              "      <td>14.552990</td>\n",
              "      <td>European, Asian, Indian</td>\n",
              "      <td>6000</td>\n",
              "      <td>Botswana Pula(P)</td>\n",
              "      <td>Yes</td>\n",
              "      <td>No</td>\n",
              "      <td>No</td>\n",
              "      <td>No</td>\n",
              "      <td>4</td>\n",
              "      <td>4.9</td>\n",
              "      <td>Dark Green</td>\n",
              "      <td>Excellent</td>\n",
              "      <td>621</td>\n",
              "    </tr>\n",
              "    <tr>\n",
              "      <th>9</th>\n",
              "      <td>6314987</td>\n",
              "      <td>Locavore</td>\n",
              "      <td>162</td>\n",
              "      <td>Pasig City</td>\n",
              "      <td>Brixton Technology Center, 10 Brixton Street, ...</td>\n",
              "      <td>Kapitolyo</td>\n",
              "      <td>Kapitolyo, Pasig City</td>\n",
              "      <td>121.056532</td>\n",
              "      <td>14.572041</td>\n",
              "      <td>Filipino</td>\n",
              "      <td>1100</td>\n",
              "      <td>Botswana Pula(P)</td>\n",
              "      <td>Yes</td>\n",
              "      <td>No</td>\n",
              "      <td>No</td>\n",
              "      <td>No</td>\n",
              "      <td>3</td>\n",
              "      <td>4.8</td>\n",
              "      <td>Dark Green</td>\n",
              "      <td>Excellent</td>\n",
              "      <td>532</td>\n",
              "    </tr>\n",
              "  </tbody>\n",
              "</table>\n",
              "</div>\n",
              "    <div class=\"colab-df-buttons\">\n",
              "\n",
              "  <div class=\"colab-df-container\">\n",
              "    <button class=\"colab-df-convert\" onclick=\"convertToInteractive('df-5e5f5d5e-4b55-45c2-aa6d-035939fe99f3')\"\n",
              "            title=\"Convert this dataframe to an interactive table.\"\n",
              "            style=\"display:none;\">\n",
              "\n",
              "  <svg xmlns=\"http://www.w3.org/2000/svg\" height=\"24px\" viewBox=\"0 -960 960 960\">\n",
              "    <path d=\"M120-120v-720h720v720H120Zm60-500h600v-160H180v160Zm220 220h160v-160H400v160Zm0 220h160v-160H400v160ZM180-400h160v-160H180v160Zm440 0h160v-160H620v160ZM180-180h160v-160H180v160Zm440 0h160v-160H620v160Z\"/>\n",
              "  </svg>\n",
              "    </button>\n",
              "\n",
              "  <style>\n",
              "    .colab-df-container {\n",
              "      display:flex;\n",
              "      gap: 12px;\n",
              "    }\n",
              "\n",
              "    .colab-df-convert {\n",
              "      background-color: #E8F0FE;\n",
              "      border: none;\n",
              "      border-radius: 50%;\n",
              "      cursor: pointer;\n",
              "      display: none;\n",
              "      fill: #1967D2;\n",
              "      height: 32px;\n",
              "      padding: 0 0 0 0;\n",
              "      width: 32px;\n",
              "    }\n",
              "\n",
              "    .colab-df-convert:hover {\n",
              "      background-color: #E2EBFA;\n",
              "      box-shadow: 0px 1px 2px rgba(60, 64, 67, 0.3), 0px 1px 3px 1px rgba(60, 64, 67, 0.15);\n",
              "      fill: #174EA6;\n",
              "    }\n",
              "\n",
              "    .colab-df-buttons div {\n",
              "      margin-bottom: 4px;\n",
              "    }\n",
              "\n",
              "    [theme=dark] .colab-df-convert {\n",
              "      background-color: #3B4455;\n",
              "      fill: #D2E3FC;\n",
              "    }\n",
              "\n",
              "    [theme=dark] .colab-df-convert:hover {\n",
              "      background-color: #434B5C;\n",
              "      box-shadow: 0px 1px 3px 1px rgba(0, 0, 0, 0.15);\n",
              "      filter: drop-shadow(0px 1px 2px rgba(0, 0, 0, 0.3));\n",
              "      fill: #FFFFFF;\n",
              "    }\n",
              "  </style>\n",
              "\n",
              "    <script>\n",
              "      const buttonEl =\n",
              "        document.querySelector('#df-5e5f5d5e-4b55-45c2-aa6d-035939fe99f3 button.colab-df-convert');\n",
              "      buttonEl.style.display =\n",
              "        google.colab.kernel.accessAllowed ? 'block' : 'none';\n",
              "\n",
              "      async function convertToInteractive(key) {\n",
              "        const element = document.querySelector('#df-5e5f5d5e-4b55-45c2-aa6d-035939fe99f3');\n",
              "        const dataTable =\n",
              "          await google.colab.kernel.invokeFunction('convertToInteractive',\n",
              "                                                    [key], {});\n",
              "        if (!dataTable) return;\n",
              "\n",
              "        const docLinkHtml = 'Like what you see? Visit the ' +\n",
              "          '<a target=\"_blank\" href=https://colab.research.google.com/notebooks/data_table.ipynb>data table notebook</a>'\n",
              "          + ' to learn more about interactive tables.';\n",
              "        element.innerHTML = '';\n",
              "        dataTable['output_type'] = 'display_data';\n",
              "        await google.colab.output.renderOutput(dataTable, element);\n",
              "        const docLink = document.createElement('div');\n",
              "        docLink.innerHTML = docLinkHtml;\n",
              "        element.appendChild(docLink);\n",
              "      }\n",
              "    </script>\n",
              "  </div>\n",
              "\n",
              "\n",
              "<div id=\"df-5ab65206-5081-4e8e-8bed-dfa49d752c4c\">\n",
              "  <button class=\"colab-df-quickchart\" onclick=\"quickchart('df-5ab65206-5081-4e8e-8bed-dfa49d752c4c')\"\n",
              "            title=\"Suggest charts.\"\n",
              "            style=\"display:none;\">\n",
              "\n",
              "<svg xmlns=\"http://www.w3.org/2000/svg\" height=\"24px\"viewBox=\"0 0 24 24\"\n",
              "     width=\"24px\">\n",
              "    <g>\n",
              "        <path d=\"M19 3H5c-1.1 0-2 .9-2 2v14c0 1.1.9 2 2 2h14c1.1 0 2-.9 2-2V5c0-1.1-.9-2-2-2zM9 17H7v-7h2v7zm4 0h-2V7h2v10zm4 0h-2v-4h2v4z\"/>\n",
              "    </g>\n",
              "</svg>\n",
              "  </button>\n",
              "\n",
              "<style>\n",
              "  .colab-df-quickchart {\n",
              "      --bg-color: #E8F0FE;\n",
              "      --fill-color: #1967D2;\n",
              "      --hover-bg-color: #E2EBFA;\n",
              "      --hover-fill-color: #174EA6;\n",
              "      --disabled-fill-color: #AAA;\n",
              "      --disabled-bg-color: #DDD;\n",
              "  }\n",
              "\n",
              "  [theme=dark] .colab-df-quickchart {\n",
              "      --bg-color: #3B4455;\n",
              "      --fill-color: #D2E3FC;\n",
              "      --hover-bg-color: #434B5C;\n",
              "      --hover-fill-color: #FFFFFF;\n",
              "      --disabled-bg-color: #3B4455;\n",
              "      --disabled-fill-color: #666;\n",
              "  }\n",
              "\n",
              "  .colab-df-quickchart {\n",
              "    background-color: var(--bg-color);\n",
              "    border: none;\n",
              "    border-radius: 50%;\n",
              "    cursor: pointer;\n",
              "    display: none;\n",
              "    fill: var(--fill-color);\n",
              "    height: 32px;\n",
              "    padding: 0;\n",
              "    width: 32px;\n",
              "  }\n",
              "\n",
              "  .colab-df-quickchart:hover {\n",
              "    background-color: var(--hover-bg-color);\n",
              "    box-shadow: 0 1px 2px rgba(60, 64, 67, 0.3), 0 1px 3px 1px rgba(60, 64, 67, 0.15);\n",
              "    fill: var(--button-hover-fill-color);\n",
              "  }\n",
              "\n",
              "  .colab-df-quickchart-complete:disabled,\n",
              "  .colab-df-quickchart-complete:disabled:hover {\n",
              "    background-color: var(--disabled-bg-color);\n",
              "    fill: var(--disabled-fill-color);\n",
              "    box-shadow: none;\n",
              "  }\n",
              "\n",
              "  .colab-df-spinner {\n",
              "    border: 2px solid var(--fill-color);\n",
              "    border-color: transparent;\n",
              "    border-bottom-color: var(--fill-color);\n",
              "    animation:\n",
              "      spin 1s steps(1) infinite;\n",
              "  }\n",
              "\n",
              "  @keyframes spin {\n",
              "    0% {\n",
              "      border-color: transparent;\n",
              "      border-bottom-color: var(--fill-color);\n",
              "      border-left-color: var(--fill-color);\n",
              "    }\n",
              "    20% {\n",
              "      border-color: transparent;\n",
              "      border-left-color: var(--fill-color);\n",
              "      border-top-color: var(--fill-color);\n",
              "    }\n",
              "    30% {\n",
              "      border-color: transparent;\n",
              "      border-left-color: var(--fill-color);\n",
              "      border-top-color: var(--fill-color);\n",
              "      border-right-color: var(--fill-color);\n",
              "    }\n",
              "    40% {\n",
              "      border-color: transparent;\n",
              "      border-right-color: var(--fill-color);\n",
              "      border-top-color: var(--fill-color);\n",
              "    }\n",
              "    60% {\n",
              "      border-color: transparent;\n",
              "      border-right-color: var(--fill-color);\n",
              "    }\n",
              "    80% {\n",
              "      border-color: transparent;\n",
              "      border-right-color: var(--fill-color);\n",
              "      border-bottom-color: var(--fill-color);\n",
              "    }\n",
              "    90% {\n",
              "      border-color: transparent;\n",
              "      border-bottom-color: var(--fill-color);\n",
              "    }\n",
              "  }\n",
              "</style>\n",
              "\n",
              "  <script>\n",
              "    async function quickchart(key) {\n",
              "      const quickchartButtonEl =\n",
              "        document.querySelector('#' + key + ' button');\n",
              "      quickchartButtonEl.disabled = true;  // To prevent multiple clicks.\n",
              "      quickchartButtonEl.classList.add('colab-df-spinner');\n",
              "      try {\n",
              "        const charts = await google.colab.kernel.invokeFunction(\n",
              "            'suggestCharts', [key], {});\n",
              "      } catch (error) {\n",
              "        console.error('Error during call to suggestCharts:', error);\n",
              "      }\n",
              "      quickchartButtonEl.classList.remove('colab-df-spinner');\n",
              "      quickchartButtonEl.classList.add('colab-df-quickchart-complete');\n",
              "    }\n",
              "    (() => {\n",
              "      let quickchartButtonEl =\n",
              "        document.querySelector('#df-5ab65206-5081-4e8e-8bed-dfa49d752c4c button');\n",
              "      quickchartButtonEl.style.display =\n",
              "        google.colab.kernel.accessAllowed ? 'block' : 'none';\n",
              "    })();\n",
              "  </script>\n",
              "</div>\n",
              "    </div>\n",
              "  </div>\n"
            ]
          },
          "metadata": {},
          "execution_count": 9
        }
      ]
    },
    {
      "cell_type": "code",
      "execution_count": 10,
      "id": "db2c5b2b",
      "metadata": {
        "scrolled": true,
        "colab": {
          "base_uri": "https://localhost:8080/"
        },
        "id": "db2c5b2b",
        "outputId": "9acfe570-47a4-4cea-99e9-635eb6dbed53"
      },
      "outputs": [
        {
          "output_type": "stream",
          "name": "stdout",
          "text": [
            "Top three most common cuisines are: \n",
            "North Indian    3960\n",
            "Chinese         2735\n",
            "Fast Food       1986\n",
            "Name: Cuisines, dtype: int64\n"
          ]
        }
      ],
      "source": [
        "cuisines_series = rest_df['Cuisines'].str.split(', ').explode()\n",
        "cuisine_counts = cuisines_series.value_counts()\n",
        "\n",
        "top_3_cuisines = cuisine_counts.head(3)\n",
        "\n",
        "print('Top three most common cuisines are: ')\n",
        "print(top_3_cuisines)"
      ]
    },
    {
      "cell_type": "markdown",
      "id": "ceef0535",
      "metadata": {
        "id": "ceef0535"
      },
      "source": [
        "**Calculate the percentage of restaurants that serve each of the top cuisines**"
      ]
    },
    {
      "cell_type": "code",
      "execution_count": 11,
      "id": "aa33ccf2",
      "metadata": {
        "scrolled": true,
        "colab": {
          "base_uri": "https://localhost:8080/"
        },
        "id": "aa33ccf2",
        "outputId": "b2d73943-1be4-4e16-9102-5670d7f59d1a"
      },
      "outputs": [
        {
          "output_type": "stream",
          "name": "stdout",
          "text": [
            "\n",
            "Percentage of Restaurants for Each Top Cuisine:\n",
            "North Indian: 41.50%\n",
            "Chinese: 28.66%\n",
            "Fast Food: 20.81%\n"
          ]
        }
      ],
      "source": [
        "total_restaurants = len(rest_df)\n",
        "\n",
        "cuisine_percentages = {}\n",
        "\n",
        "for cuisine, count in top_3_cuisines.items():\n",
        "    percentage = (count / total_restaurants) * 100\n",
        "    cuisine_percentages[cuisine] = percentage\n",
        "\n",
        "print(\"\\nPercentage of Restaurants for Each Top Cuisine:\")\n",
        "\n",
        "for cuisine, percentage in cuisine_percentages.items():\n",
        "    print(f\"{cuisine}: {percentage:.2f}%\")"
      ]
    },
    {
      "cell_type": "code",
      "execution_count": 12,
      "id": "32cffe60",
      "metadata": {
        "colab": {
          "base_uri": "https://localhost:8080/",
          "height": 621
        },
        "id": "32cffe60",
        "outputId": "71ecb492-c66a-4e19-cf49-93cfabaaecbd"
      },
      "outputs": [
        {
          "output_type": "display_data",
          "data": {
            "text/plain": [
              "<Figure size 1000x600 with 1 Axes>"
            ],
            "image/png": "[encoded data removed]"
          },
          "metadata": {}
        }
      ],
      "source": [
        "cuisines = list(cuisine_percentages.keys())\n",
        "percentages = list(cuisine_percentages.values())\n",
        "plt.figure(figsize=(10, 6))\n",
        "plt.bar(cuisines, percentages, color='skyblue')\n",
        "plt.xlabel('Cuisine')\n",
        "plt.ylabel('Percentage (%)')\n",
        "plt.title('Top Cuisines in Restaurants by Percentage')\n",
        "plt.xticks(rotation=45)\n",
        "\n",
        "plt.show()"
      ]
    },
    {
      "cell_type": "markdown",
      "id": "b119423c",
      "metadata": {
        "id": "b119423c"
      },
      "source": [
        "# L1 - T2 : City Analysis"
      ]
    },
    {
      "cell_type": "markdown",
      "id": "a57585c3",
      "metadata": {
        "id": "a57585c3"
      },
      "source": [
        "**Identify the city with the highest number of restaurants in the dataset**"
      ]
    },
    {
      "cell_type": "code",
      "execution_count": 13,
      "id": "9712b3e7",
      "metadata": {
        "colab": {
          "base_uri": "https://localhost:8080/"
        },
        "id": "9712b3e7",
        "outputId": "3c7a6084-ca06-4d04-9082-b356972f5d3d"
      },
      "outputs": [
        {
          "output_type": "stream",
          "name": "stdout",
          "text": [
            "city with the highest number of restaurants: \n",
            "New Delhi    3739\n",
            "Name: City, dtype: int64\n"
          ]
        }
      ],
      "source": [
        "city_with_highest_restaurant = rest_df.groupby('Restaurant Name')['City'].sum().value_counts()\n",
        "print('city with the highest number of restaurants: ')\n",
        "print(city_with_highest_restaurant.head(1))"
      ]
    },
    {
      "cell_type": "markdown",
      "id": "3eeadf86",
      "metadata": {
        "id": "3eeadf86"
      },
      "source": [
        "**Calculate the average rating for restaurants in each city**"
      ]
    },
    {
      "cell_type": "code",
      "execution_count": 14,
      "id": "938b6506",
      "metadata": {
        "colab": {
          "base_uri": "https://localhost:8080/"
        },
        "id": "938b6506",
        "outputId": "884cba0c-1d08-4f89-c70d-89243bc7a5cb"
      },
      "outputs": [
        {
          "output_type": "stream",
          "name": "stdout",
          "text": [
            "the average rating for restaurants in each city: \n",
            "City\n",
            "Abu Dhabi          4.300000\n",
            "Agra               3.965000\n",
            "Ahmedabad          4.161905\n",
            "Albany             3.552941\n",
            "Allahabad          3.395000\n",
            "                     ...   \n",
            "Weirton            3.900000\n",
            "Wellington City    4.250000\n",
            "Winchester Bay     3.200000\n",
            "Yorkton            3.300000\n",
            "��stanbul          4.292857\n",
            "Name: Aggregate rating, Length: 140, dtype: float64\n"
          ]
        }
      ],
      "source": [
        "average_restaurant_city_rating = rest_df.groupby('City')['Aggregate rating'].mean()\n",
        "print('the average rating for restaurants in each city: ')\n",
        "print(average_restaurant_city_rating)"
      ]
    },
    {
      "cell_type": "code",
      "execution_count": 15,
      "id": "43f5a859",
      "metadata": {
        "colab": {
          "base_uri": "https://localhost:8080/",
          "height": 564
        },
        "id": "43f5a859",
        "outputId": "a4cc7410-0692-497a-88f6-43c52a73f49c"
      },
      "outputs": [
        {
          "output_type": "display_data",
          "data": {
            "text/plain": [
              "<Figure size 1200x600 with 1 Axes>"
            ],
            "image/png": "[encoded data removed]"
          },
          "metadata": {}
        }
      ],
      "source": [
        "top_10_cities = average_restaurant_city_rating.sort_values(ascending=False).head(10)\n",
        "plt.figure(figsize=(12, 6))\n",
        "sns.barplot(x=top_10_cities.values, y=top_10_cities.index, palette=\"Blues_d\")\n",
        "\n",
        "plt.xlabel('Average Rating')\n",
        "plt.ylabel('City')\n",
        "plt.title('Top 10 Cities by Average Rating')\n",
        "\n",
        "plt.show()"
      ]
    },
    {
      "cell_type": "markdown",
      "id": "2f002035",
      "metadata": {
        "id": "2f002035"
      },
      "source": [
        "**Determine the city with the highest average rating**"
      ]
    },
    {
      "cell_type": "code",
      "execution_count": null,
      "id": "45f37ebb",
      "metadata": {
        "colab": {
          "base_uri": "https://localhost:8080/"
        },
        "id": "45f37ebb",
        "outputId": "ed2a4818-bbcd-4f5b-9a41-db5946e89c3a"
      },
      "outputs": [
        {
          "output_type": "stream",
          "name": "stdout",
          "text": [
            "The city with the highest average rating is: Inner City\n"
          ]
        }
      ],
      "source": [
        "top_1_city = average_restaurant_city_rating.idxmax()\n",
        "print(f\"The city with the highest average rating is: {top_1_city}\")"
      ]
    },
    {
      "cell_type": "markdown",
      "id": "e5bc4fde",
      "metadata": {
        "id": "e5bc4fde"
      },
      "source": [
        "# L1 - T3 : Price Range Distribution"
      ]
    },
    {
      "cell_type": "markdown",
      "id": "c47dc9e6",
      "metadata": {
        "id": "c47dc9e6"
      },
      "source": [
        "**Create a histogram or bar chart to visualize the distribution of price ranges among the restaurants**"
      ]
    },
    {
      "cell_type": "code",
      "execution_count": null,
      "id": "f378251d",
      "metadata": {
        "colab": {
          "base_uri": "https://localhost:8080/",
          "height": 564
        },
        "id": "f378251d",
        "outputId": "781aba73-2f05-4b5e-dce0-043e78b3b156"
      },
      "outputs": [
        {
          "output_type": "display_data",
          "data": {
            "text/plain": [
              "<Figure size 800x600 with 1 Axes>"
            ],
            "image/png": "[encoded data removed]"
          },
          "metadata": {}
        }
      ],
      "source": [
        "price_range_counts = rest_df['Price range'].value_counts()\n",
        "\n",
        "price_range_order = [1, 2, 3, 4]\n",
        "colors = ['skyblue', 'lightgreen', 'gold', 'lightcoral']\n",
        "plt.figure(figsize=(8, 6))\n",
        "plt.bar(price_range_counts.index, price_range_counts, tick_label=price_range_counts.index, color=colors)\n",
        "\n",
        "plt.xlabel('Price Range')\n",
        "plt.ylabel('Number of Restaurants')\n",
        "plt.title('Distribution of Price Ranges Among Restaurants')\n",
        "plt.xticks(price_range_order)\n",
        "plt.show()"
      ]
    },
    {
      "cell_type": "markdown",
      "id": "4c118d6b",
      "metadata": {
        "id": "4c118d6b"
      },
      "source": [
        "**Calculate the percentage of restaurants in each price range category**"
      ]
    },
    {
      "cell_type": "code",
      "execution_count": null,
      "id": "c20da794",
      "metadata": {
        "colab": {
          "base_uri": "https://localhost:8080/"
        },
        "id": "c20da794",
        "outputId": "2f470411-9336-44ee-9106-1da80e0df720"
      },
      "outputs": [
        {
          "output_type": "stream",
          "name": "stdout",
          "text": [
            "\n",
            "Percentage of Restaurants for Each Price Range Category:\n",
            "Price Range 1: 46.51%\n",
            "Price Range 2: 32.62%\n",
            "Price Range 3: 14.72%\n",
            "Price Range 4: 6.14%\n"
          ]
        }
      ],
      "source": [
        "price_range_counts = rest_df['Price range'].value_counts()\n",
        "\n",
        "total_restaurants = len(rest_df)\n",
        "\n",
        "pricerange_percentages = {}\n",
        "\n",
        "for price, count in price_range_counts.items():\n",
        "    percentage = (count / total_restaurants) * 100\n",
        "    pricerange_percentages[price] = percentage\n",
        "\n",
        "print(\"\\nPercentage of Restaurants for Each Price Range Category:\")\n",
        "for price, percentage in pricerange_percentages.items():\n",
        "    print(f\"Price Range {price}: {percentage:.2f}%\")"
      ]
    },
    {
      "cell_type": "markdown",
      "id": "2730ab7b",
      "metadata": {
        "id": "2730ab7b"
      },
      "source": [
        "# L1 - T4 : Online Delivery"
      ]
    },
    {
      "cell_type": "markdown",
      "id": "b4558f90",
      "metadata": {
        "id": "b4558f90"
      },
      "source": [
        "**Determine the percentage of restaurants that offer online delivery**"
      ]
    },
    {
      "cell_type": "code",
      "execution_count": null,
      "id": "b3ee5c35",
      "metadata": {
        "colab": {
          "base_uri": "https://localhost:8080/"
        },
        "id": "b3ee5c35",
        "outputId": "9065573a-b2e7-4cea-cf63-64509e0bc5ec"
      },
      "outputs": [
        {
          "output_type": "stream",
          "name": "stdout",
          "text": [
            "The percentage of restaurants that offer online delivery is: 25.69%\n"
          ]
        }
      ],
      "source": [
        "percentage_of_online_delivery = (rest_df['Has Online delivery'] == 'Yes').mean() * 100\n",
        "\n",
        "print(f\"The percentage of restaurants that offer online delivery is: {percentage_of_online_delivery:.2f}%\")"
      ]
    },
    {
      "cell_type": "markdown",
      "source": [
        "**Compare the average ratings of restaurants with and without online delivery**"
      ],
      "metadata": {
        "id": "0175OTEK7llR"
      },
      "id": "0175OTEK7llR"
    },
    {
      "cell_type": "code",
      "source": [
        "percentage_of_online_delivery = (rest_df['Has Online delivery'] == 'Yes').mean() * 100\n",
        "percentage_of_offline_delivery = (rest_df['Has Online delivery'] == 'No').mean() * 100\n",
        "print(f\"The percentage of restaurants that offer online delivery is: {percentage_of_online_delivery:.2f}%\")\n",
        "print(f\"The percentage of restaurants that offer online delivery is: {percentage_of_offline_delivery:.2f}%\")"
      ],
      "metadata": {
        "colab": {
          "base_uri": "https://localhost:8080/"
        },
        "id": "L0qMLERs7q7w",
        "outputId": "ea2c25b1-0820-4df3-e05b-d0eabb6a1da8"
      },
      "id": "L0qMLERs7q7w",
      "execution_count": null,
      "outputs": [
        {
          "output_type": "stream",
          "name": "stdout",
          "text": [
            "The percentage of restaurants that offer online delivery is: 25.69%\n",
            "The percentage of restaurants that offer online delivery is: 74.31%\n"
          ]
        }
      ]
    },
    {
      "cell_type": "code",
      "source": [
        "plt.figure(figsize=(6, 6))\n",
        "plt.pie([percentage_of_online_delivery, percentage_of_offline_delivery], labels=['Offer Online Delivery', 'Do Not Offer Online Delivery'], colors=['lightblue', 'lightcoral'], autopct='%1.2f%%', startangle=140)\n",
        "plt.title('Percentage of Restaurants Offering Online and Offline Delivery')\n",
        "plt.show()"
      ],
      "metadata": {
        "colab": {
          "base_uri": "https://localhost:8080/",
          "height": 521
        },
        "id": "ZMPVmwGx73xe",
        "outputId": "0ec2875c-608b-4b15-df54-6903145519ec"
      },
      "id": "ZMPVmwGx73xe",
      "execution_count": null,
      "outputs": [
        {
          "output_type": "display_data",
          "data": {
            "text/plain": [
              "<Figure size 600x600 with 1 Axes>"
            ],
            "image/png": "[encoded data removed]"
          },
          "metadata": {}
        }
      ]
    },
    {
      "cell_type": "markdown",
      "source": [
        "*The diagram resembles the shape of a Pac-Man character.*"
      ],
      "metadata": {
        "id": "GN1c75FZ8dk-"
      },
      "id": "GN1c75FZ8dk-"
    }
  ],
  "metadata": {
    "kernelspec": {
      "display_name": "Python 3 (ipykernel)",
      "language": "python",
      "name": "python3"
    },
    "language_info": {
      "codemirror_mode": {
        "name": "ipython",
        "version": 3
      },
      "file_extension": ".py",
      "mimetype": "text/x-python",
      "name": "python",
      "nbconvert_exporter": "python",
      "pygments_lexer": "ipython3",
      "version": "3.10.9"
    },
    "colab": {
      "provenance": []
    }
  },
  "nbformat": 4,
  "nbformat_minor": 5
}